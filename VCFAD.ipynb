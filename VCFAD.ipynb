{
 "cells": [
  {
   "cell_type": "markdown",
   "id": "ae437ce8-087c-4e2b-b8ae-cf1c5bed5fa0",
   "metadata": {},
   "source": [
    "## Voice Cloning System (VC) with TTS"
   ]
  },
  {
   "cell_type": "markdown",
   "id": "5e5437f2-b6c0-40e1-9c48-1fb7be077a7e",
   "metadata": {},
   "source": [
    "### Data downloading and preprocessing"
   ]
  },
  {
   "cell_type": "code",
   "execution_count": 4,
   "id": "c78a167c-4745-46f1-a7bd-015b261e7a32",
   "metadata": {},
   "outputs": [],
   "source": [
    "import os\n",
    "import glob\n",
    "import librosa\n",
    "import numpy as np\n",
    "from TTS.api import TTS\n",
    "import soundfile as sf\n",
    "import jiwer"
   ]
  },
  {
   "cell_type": "code",
   "execution_count": 5,
   "id": "4a99061c-23a2-43fc-8223-335c1e0fbc6a",
   "metadata": {},
   "outputs": [],
   "source": [
    "# Step 1: Data Preparation\n",
    "def download_and_prepare_timit(timit_path='TIMIT'):\n",
    "    audio_paths_train= glob.glob(os.path.join(timit_path, 'TRAIN/DR*/**/*.WAV'), recursive=True)\n",
    "    #print(audio_paths_train)\n",
    "    audio_paths_test= glob.glob(os.path.join(timit_path, 'TEST/DR*/**/*.WAV'), recursive=True)\n",
    "    transcription_paths_train = glob.glob(os.path.join(timit_path, 'TRAIN/DR*/**/*.TXT'), recursive=True)\n",
    "    transcription_paths_test = glob.glob(os.path.join(timit_path, 'TEST/DR*/**/*.TXT'), recursive=True)\n",
    "\n",
    "    audio_files_train = []\n",
    "    transcriptions_train = []\n",
    "    \n",
    "    for audio_path in audio_paths_train:\n",
    "        transcription_path_train = audio_path.replace(\".WAV\", \".TXT\")\n",
    "        if os.path.exists(transcription_path_train):\n",
    "            with open(transcription_path_train, 'r') as f:\n",
    "                transcription = f.readlines()[0].strip().split(' ', 2)[-1]\n",
    "                audio_files_train.append(audio_path)\n",
    "                transcriptions_train.append(transcription)\n",
    "    \n",
    "    audio_files_test = []\n",
    "    transcriptions_test = []\n",
    "    \n",
    "    for audio_path in audio_paths_test:\n",
    "        transcription_path_test = audio_path.replace(\".WAV\", \".TXT\")\n",
    "        if os.path.exists(transcription_path_test):\n",
    "            with open(transcription_path_test, 'r') as f:\n",
    "                transcription = f.readlines()[0].strip().split(' ', 2)[-1]\n",
    "                audio_files_test.append(audio_path)\n",
    "                transcriptions_test.append(transcription)\n",
    "                \n",
    "    return audio_files_train, transcriptions_train,audio_files_test, transcriptions_test \n",
    "\n",
    "# Usage\n",
    "timit_path = 'TIMIT\\\\data'\n",
    "audio_files_train, transcriptions_train,audio_files_test, transcriptions_test = download_and_prepare_timit(timit_path)"
   ]
  },
  {
   "cell_type": "code",
   "execution_count": 6,
   "id": "c14c3cce-7413-4daa-967c-0018a824bedd",
   "metadata": {
    "scrolled": true
   },
   "outputs": [],
   "source": [
    "# Step 2: Feature Extraction\n",
    "def extract_mel_spectrogram(audio_path, sr=22050, n_mels=80):\n",
    "    y, sr = librosa.load(audio_path, sr=sr)\n",
    "    mel_spec = librosa.feature.melspectrogram(y=y, sr=sr, n_mels=n_mels)\n",
    "    mel_spec_db = librosa.power_to_db(mel_spec, ref=np.max)\n",
    "    return mel_spec_db\n",
    "\n",
    "mel_train = [extract_mel_spectrogram(f) for f in audio_files_train]\n",
    "mel_test = [extract_mel_spectrogram(f) for f in audio_files_test]"
   ]
  },
  {
   "cell_type": "markdown",
   "id": "75dd8e29-8430-4085-82c0-20ee5593206c",
   "metadata": {},
   "source": [
    "### Model loading"
   ]
  },
  {
   "cell_type": "code",
   "execution_count": 15,
   "id": "fe73dbe5-0198-4479-9375-cb48a84d7d8e",
   "metadata": {},
   "outputs": [
    {
     "ename": "FileNotFoundError",
     "evalue": "[WinError 2] The system cannot find the file specified",
     "output_type": "error",
     "traceback": [
      "\u001b[1;31m---------------------------------------------------------------------------\u001b[0m",
      "\u001b[1;31mFileNotFoundError\u001b[0m                         Traceback (most recent call last)",
      "Cell \u001b[1;32mIn[15], line 1\u001b[0m\n\u001b[1;32m----> 1\u001b[0m modelname \u001b[38;5;241m=\u001b[39m \u001b[43mTTS\u001b[49m\u001b[43m(\u001b[49m\u001b[43m)\u001b[49m\u001b[38;5;241m.\u001b[39mlistmodels()[\u001b[38;5;241m0\u001b[39m]\n\u001b[0;32m      2\u001b[0m \u001b[38;5;66;03m# Step 3: Load Pre-trained Models\u001b[39;00m\n\u001b[0;32m      3\u001b[0m \u001b[38;5;66;03m# Initialize Tacotron 2 model\u001b[39;00m\n\u001b[0;32m      4\u001b[0m tts \u001b[38;5;241m=\u001b[39m TTS(model_name\u001b[38;5;241m=\u001b[39m\u001b[38;5;124m\"\u001b[39m\u001b[38;5;124mtts_models/en/ljspeech/tacotron2-DDC\u001b[39m\u001b[38;5;124m\"\u001b[39m, progress_bar\u001b[38;5;241m=\u001b[39m\u001b[38;5;28;01mTrue\u001b[39;00m, gpu\u001b[38;5;241m=\u001b[39m\u001b[38;5;28;01mFalse\u001b[39;00m)\n",
      "File \u001b[1;32mC:\\Users\\PicardiC\\TTS\\TTS\\api.py:64\u001b[0m, in \u001b[0;36mTTS.__init__\u001b[1;34m(self, model_name, model_path, config_path, vocoder_path, vocoder_config_path, progress_bar, gpu)\u001b[0m\n\u001b[0;32m     28\u001b[0m \u001b[38;5;250m\u001b[39m\u001b[38;5;124;03m\"\"\"🐸TTS python interface that allows to load and use the released models.\u001b[39;00m\n\u001b[0;32m     29\u001b[0m \n\u001b[0;32m     30\u001b[0m \u001b[38;5;124;03mExample with a multi-speaker model:\u001b[39;00m\n\u001b[1;32m   (...)\u001b[0m\n\u001b[0;32m     61\u001b[0m \u001b[38;5;124;03m    gpu (bool, optional): Enable/disable GPU. Some models might be too slow on CPU. Defaults to False.\u001b[39;00m\n\u001b[0;32m     62\u001b[0m \u001b[38;5;124;03m\"\"\"\u001b[39;00m\n\u001b[0;32m     63\u001b[0m \u001b[38;5;28msuper\u001b[39m()\u001b[38;5;241m.\u001b[39m\u001b[38;5;21m__init__\u001b[39m()\n\u001b[1;32m---> 64\u001b[0m \u001b[38;5;28mself\u001b[39m\u001b[38;5;241m.\u001b[39mmanager \u001b[38;5;241m=\u001b[39m \u001b[43mModelManager\u001b[49m\u001b[43m(\u001b[49m\u001b[43mmodels_file\u001b[49m\u001b[38;5;241;43m=\u001b[39;49m\u001b[38;5;28;43mself\u001b[39;49m\u001b[38;5;241;43m.\u001b[39;49m\u001b[43mget_models_file_path\u001b[49m\u001b[43m(\u001b[49m\u001b[43m)\u001b[49m\u001b[43m,\u001b[49m\u001b[43m \u001b[49m\u001b[43mprogress_bar\u001b[49m\u001b[38;5;241;43m=\u001b[39;49m\u001b[43mprogress_bar\u001b[49m\u001b[43m,\u001b[49m\u001b[43m \u001b[49m\u001b[43mverbose\u001b[49m\u001b[38;5;241;43m=\u001b[39;49m\u001b[38;5;28;43;01mFalse\u001b[39;49;00m\u001b[43m)\u001b[49m\n\u001b[0;32m     65\u001b[0m \u001b[38;5;28mself\u001b[39m\u001b[38;5;241m.\u001b[39mconfig \u001b[38;5;241m=\u001b[39m load_config(config_path) \u001b[38;5;28;01mif\u001b[39;00m config_path \u001b[38;5;28;01melse\u001b[39;00m \u001b[38;5;28;01mNone\u001b[39;00m\n\u001b[0;32m     66\u001b[0m \u001b[38;5;28mself\u001b[39m\u001b[38;5;241m.\u001b[39msynthesizer \u001b[38;5;241m=\u001b[39m \u001b[38;5;28;01mNone\u001b[39;00m\n",
      "File \u001b[1;32mC:\\Users\\PicardiC\\TTS\\TTS\\utils\\manage.py:51\u001b[0m, in \u001b[0;36mModelManager.__init__\u001b[1;34m(self, models_file, output_prefix, progress_bar, verbose)\u001b[0m\n\u001b[0;32m     49\u001b[0m \u001b[38;5;28mself\u001b[39m\u001b[38;5;241m.\u001b[39mverbose \u001b[38;5;241m=\u001b[39m verbose\n\u001b[0;32m     50\u001b[0m \u001b[38;5;28;01mif\u001b[39;00m output_prefix \u001b[38;5;129;01mis\u001b[39;00m \u001b[38;5;28;01mNone\u001b[39;00m:\n\u001b[1;32m---> 51\u001b[0m     \u001b[38;5;28mself\u001b[39m\u001b[38;5;241m.\u001b[39moutput_prefix \u001b[38;5;241m=\u001b[39m \u001b[43mget_user_data_dir\u001b[49m\u001b[43m(\u001b[49m\u001b[38;5;124;43m\"\u001b[39;49m\u001b[38;5;124;43mtts\u001b[39;49m\u001b[38;5;124;43m\"\u001b[39;49m\u001b[43m)\u001b[49m\n\u001b[0;32m     52\u001b[0m \u001b[38;5;28;01melse\u001b[39;00m:\n\u001b[0;32m     53\u001b[0m     \u001b[38;5;28mself\u001b[39m\u001b[38;5;241m.\u001b[39moutput_prefix \u001b[38;5;241m=\u001b[39m os\u001b[38;5;241m.\u001b[39mpath\u001b[38;5;241m.\u001b[39mjoin(output_prefix, \u001b[38;5;124m\"\u001b[39m\u001b[38;5;124mtts\u001b[39m\u001b[38;5;124m\"\u001b[39m)\n",
      "File \u001b[1;32mC:\\Users\\PicardiC\\TTS\\TTS\\utils\\generic_utils.py:140\u001b[0m, in \u001b[0;36mget_user_data_dir\u001b[1;34m(appname)\u001b[0m\n\u001b[0;32m    135\u001b[0m     \u001b[38;5;28;01mimport\u001b[39;00m \u001b[38;5;21;01mwinreg\u001b[39;00m  \u001b[38;5;66;03m# pylint: disable=import-outside-toplevel\u001b[39;00m\n\u001b[0;32m    137\u001b[0m     key \u001b[38;5;241m=\u001b[39m winreg\u001b[38;5;241m.\u001b[39mOpenKey(\n\u001b[0;32m    138\u001b[0m         winreg\u001b[38;5;241m.\u001b[39mHKEY_CURRENT_USER, \u001b[38;5;124mr\u001b[39m\u001b[38;5;124m\"\u001b[39m\u001b[38;5;124mSoftware\u001b[39m\u001b[38;5;124m\\\u001b[39m\u001b[38;5;124mMicrosoft\u001b[39m\u001b[38;5;124m\\\u001b[39m\u001b[38;5;124mWindows\u001b[39m\u001b[38;5;124m\\\u001b[39m\u001b[38;5;124mCurrentVersion\u001b[39m\u001b[38;5;124m\\\u001b[39m\u001b[38;5;124mExplorer\u001b[39m\u001b[38;5;124m\\\u001b[39m\u001b[38;5;124mShell Folders\u001b[39m\u001b[38;5;124m\"\u001b[39m\n\u001b[0;32m    139\u001b[0m     )\n\u001b[1;32m--> 140\u001b[0m     dir_, _ \u001b[38;5;241m=\u001b[39m \u001b[43mwinreg\u001b[49m\u001b[38;5;241;43m.\u001b[39;49m\u001b[43mQueryValueEx\u001b[49m\u001b[43m(\u001b[49m\u001b[43mkey\u001b[49m\u001b[43m,\u001b[49m\u001b[43m \u001b[49m\u001b[38;5;124;43m\"\u001b[39;49m\u001b[38;5;124;43mLocal AppData\u001b[39;49m\u001b[38;5;124;43m\"\u001b[39;49m\u001b[43m)\u001b[49m\n\u001b[0;32m    141\u001b[0m     ans \u001b[38;5;241m=\u001b[39m Path(dir_)\u001b[38;5;241m.\u001b[39mresolve(strict\u001b[38;5;241m=\u001b[39m\u001b[38;5;28;01mFalse\u001b[39;00m)\n\u001b[0;32m    142\u001b[0m \u001b[38;5;28;01melif\u001b[39;00m sys\u001b[38;5;241m.\u001b[39mplatform \u001b[38;5;241m==\u001b[39m \u001b[38;5;124m\"\u001b[39m\u001b[38;5;124mdarwin\u001b[39m\u001b[38;5;124m\"\u001b[39m:\n",
      "\u001b[1;31mFileNotFoundError\u001b[0m: [WinError 2] The system cannot find the file specified"
     ]
    }
   ],
   "source": [
    "\n",
    "modelname = TTS().listmodels()[0]\n",
    "# Step 3: Load Pre-trained Models\n",
    "# Initialize Tacotron 2 model\n",
    "tts = TTS(model_name=\"tts_models/en/ljspeech/tacotron2-DDC\", progress_bar=True, gpu=False)\n",
    "\n",
    "# Initialize HiFi-GAN vocoder\n",
    "vocoder = TTS(model_name=\"vocoder_models/en/ljspeech/hifigan_v2\", progress_bar=True, gpu=False)"
   ]
  },
  {
   "cell_type": "code",
   "execution_count": null,
   "id": "e23bac25-b551-454b-a27e-aca182ea753c",
   "metadata": {},
   "outputs": [],
   "source": []
  }
 ],
 "metadata": {
  "kernelspec": {
   "display_name": "env_pr6",
   "language": "python",
   "name": "env_pr6"
  },
  "language_info": {
   "codemirror_mode": {
    "name": "ipython",
    "version": 3
   },
   "file_extension": ".py",
   "mimetype": "text/x-python",
   "name": "python",
   "nbconvert_exporter": "python",
   "pygments_lexer": "ipython3",
   "version": "3.11.5"
  }
 },
 "nbformat": 4,
 "nbformat_minor": 5
}
